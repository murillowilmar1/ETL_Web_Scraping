{
 "cells": [
  {
   "cell_type": "code",
   "execution_count": 2,
   "metadata": {},
   "outputs": [],
   "source": [
    "import requests\n",
    "from bs4 import BeautifulSoup\n"
   ]
  },
  {
   "cell_type": "code",
   "execution_count": 5,
   "metadata": {},
   "outputs": [],
   "source": [
    "url = \"https://listado.mercadolibre.com.co/_Tienda_samsung#DEAL_ID=MCO1142&S=landingHubcelulares-y-telefonos&V=2&T=carousel&L=SAMSUNG&deal_print_id=1d0a6ed0-7205-11ee-b99e-7fde7321a58f&c_id=carousel&c_element_order=2&c_campaign=SAMSUNG&c_uid=1d0a6ed0-7205-11ee-b99e-7fde7321a58f\"\n",
    "\n",
    "# Realizar una solicitud HTTP a la URL\n",
    "response = requests.get(url)"
   ]
  },
  {
   "cell_type": "code",
   "execution_count": 6,
   "metadata": {},
   "outputs": [
    {
     "data": {
      "text/plain": [
       "<Response [200]>"
      ]
     },
     "execution_count": 6,
     "metadata": {},
     "output_type": "execute_result"
    }
   ],
   "source": [
    "response"
   ]
  },
  {
   "cell_type": "code",
   "execution_count": 10,
   "metadata": {},
   "outputs": [],
   "source": [
    "titles = []\n",
    "initial_prices = []\n",
    "final_prices = []"
   ]
  },
  {
   "cell_type": "code",
   "execution_count": 7,
   "metadata": {},
   "outputs": [],
   "source": [
    "if response.status_code == 200:\n",
    "    # Analizar el contenido HTML de la página\n",
    "    soup = BeautifulSoup(response.text, 'html.parser')\n",
    "\n",
    "    # Encontrar los elementos que contienen los títulos de los productos\n",
    "    product_titles = soup.find_all(\"a\", class_=\"ui-search-item__group__element ui-search-link\")  # Ajusta la clase CSS según la estructura del sitio web\n"
   ]
  },
  {
   "cell_type": "code",
   "execution_count": 8,
   "metadata": {},
   "outputs": [
    {
     "name": "stdout",
     "output_type": "stream",
     "text": [
      "Samsung Galaxy S23 Ultra Dual SIM 256 GB green 12 GB RAM\n",
      "27  Monitor Curvo Fhd 1800r Con Diseño Sin Bordes En 3 Lados Color Black 100V/240V\n",
      "Samsung Galaxy S23 Ultra Dual SIM 512 GB crema 12 GB RAM\n",
      "Monitor Led De 24  Con Panel Ips Y Diseño Sin Bordes Color Black 100V/240V\n",
      "Samsung Galaxy A34 5G 5G 128 GB awesome lime 6 GB RAM\n",
      "Smart TV Samsung Series 5 UN40T5290AKXZL LED Tizen Full HD 40\" 100V/240V\n",
      "Samsung Galaxy A14 4G (Exynos) Dual SIM 128 GB black 4 GB RAM\n",
      "Samsung Galaxy A54 5G 5G Dual SIM 256 GB awesome violet 8 GB RAM\n",
      "Samsung Galaxy A34 5G 5G Dual SIM 128 GB awesome silver 6 GB RAM\n",
      "Televisor Samsung Cu7000 Crystal Uhd 55 pulgadas 2023\n",
      "Lavadora Secadora Samsung Con Eco Bubble, 11.5kg Color Plateado 120V\n",
      "Samsung Televisor Smart   32  Hd 32t4300\n",
      "27  Monitor Led Fhd Con Bordes Ultra Delgados Color Black 100V/240V\n",
      "Samsung Audífonos In-ear Inalámbricosgalaxy Buds2 Negro Color Grafito\n",
      "Tablet  Samsung Galaxy Tab S S6 Lite SM-P613 10.4\" 128GB oxford gray y 4GB de memoria RAM\n",
      "32  Monitor Curvo Fhd 1800r Con Diseño Sin Bordes En 3 Lados Color Transparent 100V/240V\n",
      "Bocina Samsung Giga Party Audio Mx-t40 Con Bluetooth Negra 1 Color Negro 100V/240V\n",
      "Televisor Samsung 55  Crystal Uhd 4k Cu8200\n",
      "Nevera Samsung Inverter Frost Free  307 L Color Gris oscuro 110V - 120V\n",
      "Tablet Samsung Galaxy Tab A7 Lite Sm-t220 8.7 32gb Y 3gb Ram Color Gris\n",
      "Monitor gamer Samsung F24T45 LCD 24\" negro 100V/240V\n",
      "Galaxy Tab A8 Wifi Color Gris oscuro\n",
      "Televisor Samsung 65 Crystal Uhd 4k Cu7000\n",
      "Cargador De Pared USB Tipo C Samsung Carga Super Rápida 25w [Sin Cable] Color Negro\n",
      "24  Monitor De Juegos Con Frecuencia De Actualización De 165 Color Black\n",
      "Televisor Samsung 50  Crystal Uhd 4k Cu8000\n",
      "Televisor Samsung Cu7000 Crystal Uhd 43 pulgadas 2023\n",
      "Televisor Samsung Cu7000 Crystal Uhd 50 pulgadas 2023\n",
      "Televisor Samsung 58 Crystal Uhd 4k Cu7000\n",
      "Microondas Shine Con Dorador Con Esmalte Cerámico, 23 L\n",
      "50 Neo Qled 4k Qn90c Gaming Tv\n",
      "Lavadora Samsung Con Tecnología Digital Inverter, 15 Kg Color Gris 120V\n",
      "Lavadora Samsung Con Tecnología Digital Inverter, 13 Kg Color Gris 120V\n",
      "34  Monitor Gamer Odyssey G5 Ultra Wqhd Con Frecuencia De Ac Color Black 100V/240V\n",
      "Televisor Samsung 70  Crystal Uhd 4k Cu8000\n",
      "Lavadora automática Samsung WA19T6260B inverter gris 19kg 120 V\n",
      "Samsung Galaxy A04s Dual SIM 128 GB verde 4 GB RAM\n",
      "Tablet Samsung Galaxy Tab A A8 Sm-x200 10.5 128gb 4gb Ram Color Plata\n",
      "Monitor Samsung Odyssey G4 27 Rg5 240hz Gsync 4ms DP/HDMI\n",
      "Televisor Samsung 50  Crystal Uhd 4k Cu8200\n",
      "Lavadora automática Samsung WA17T6260B inverter gris lavanda 17kg 120 V\n",
      "Monitor gamer curvo Samsung Odyssey G5 S32AG55 LCD 32\" negro 100V/240V\n",
      "Samsung Galaxy A24 Dual SIM 128 GB plata 4 GB RAM\n",
      "Monitor Samsung Gamer Odyssey G5 27 , Qhd, 165 Hz Color Black\n",
      "Televisor Samsung 65  Crystal Uhd 4k Cu8200\n",
      "Samsung Galaxy A04e Dual SIM 32 GB black 3 GB RAM\n",
      "Televisor Samsung 50 Qled 4k Q60c\n",
      "Samsung Galaxy S23 Dual SIM 256 GB cream 8 GB RAM\n"
     ]
    }
   ],
   "source": [
    "  for title in product_titles:\n",
    "        print(title.text)"
   ]
  },
  {
   "cell_type": "code",
   "execution_count": 11,
   "metadata": {},
   "outputs": [],
   "source": [
    "if response.status_code == 200:\n",
    "    # Analizar el contenido HTML de la página\n",
    "    soup = BeautifulSoup(response.text, 'html.parser')\n",
    "\n",
    "    # Encontrar los elementos que contienen los títulos de los productos\n",
    "    product_titles = soup.find_all(\"s\", class_=\"andes-money-amount ui-search-price__part ui-search-price__part--small ui-search-price__original-value andes-money-amount--previous andes-money-amount--cents-superscript andes-money-amount--compact\")  # Ajusta la clase CSS según la estructura del sitio web\n"
   ]
  },
  {
   "cell_type": "code",
   "execution_count": 12,
   "metadata": {},
   "outputs": [
    {
     "name": "stdout",
     "output_type": "stream",
     "text": [
      "$1.160.900\n",
      "$7.599.920\n",
      "$779.900\n",
      "$1.899.920\n",
      "$1.399.900\n",
      "$1.119.900\n",
      "$2.599.920\n",
      "$1.899.920\n",
      "$2.199.900\n",
      "$1.229.900\n",
      "$949.900\n",
      "$499.900\n",
      "$2.199.899\n",
      "$3.326.900\n",
      "$699.900\n",
      "$889.900\n",
      "$2.899.900\n",
      "$2.199.899\n",
      "$1.699.900\n",
      "$1.999.900\n",
      "$2.299.900\n",
      "$469.900\n",
      "$3.859.000\n",
      "$2.129.900\n",
      "$2.029.900\n",
      "$2.699.900\n",
      "$3.499.899\n",
      "$2.299.900\n",
      "$840.269\n",
      "$1.299.920\n",
      "$1.999.900\n",
      "$2.229.901\n",
      "$2.399.000\n",
      "$1.199.920\n",
      "$2.186.328\n",
      "$2.799.900\n",
      "$569.900\n",
      "$2.399.900\n",
      "$4.899.920\n"
     ]
    }
   ],
   "source": [
    "  for title in product_titles:\n",
    "        print(title.text)"
   ]
  },
  {
   "cell_type": "code",
   "execution_count": null,
   "metadata": {},
   "outputs": [],
   "source": [
    "ui-search-item__group__element ui-search-price__part-without-link"
   ]
  },
  {
   "cell_type": "code",
   "execution_count": 19,
   "metadata": {},
   "outputs": [],
   "source": [
    "if response.status_code == 200:\n",
    "    # Analizar el contenido HTML de la página\n",
    "    soup = BeautifulSoup(response.text, 'html.parser')\n",
    "\n",
    "    # Encontrar los elementos que contienen los títulos de los productos\n",
    "    product_titles = soup.find_all(\"span\", class_=\"andes-money-amount ui-search-price__part ui-search-price__part--medium andes-money-amount--cents-superscript\")  # Ajusta la clase CSS según la estructura del sitio web\n"
   ]
  },
  {
   "cell_type": "code",
   "execution_count": 20,
   "metadata": {},
   "outputs": [
    {
     "name": "stdout",
     "output_type": "stream",
     "text": [
      "$6.599.920\n",
      "$806.900\n",
      "$6.999.920\n",
      "$629.900\n",
      "$1.699.920\n",
      "$989.900\n",
      "$603.900\n",
      "$1.999.920\n",
      "$1.699.920\n",
      "$1.759.900\n",
      "$2.809.900\n",
      "$906.900\n",
      "$899.900\n",
      "$419.900\n",
      "$1.999.920\n",
      "$1.074.513\n",
      "$549.900\n",
      "$1.999.900\n",
      "$2.600.000\n",
      "$599.000\n",
      "$739.900\n",
      "$933.000\n",
      "$2.599.900\n",
      "$95.000\n",
      "$829.900\n",
      "$1.849.900\n",
      "$1.399.900\n",
      "$1.799.900\n",
      "$2.099.900\n",
      "$464.900\n",
      "$3.108.366\n",
      "$1.549.900\n",
      "$1.529.900\n",
      "$2.599.900\n",
      "$3.099.900\n",
      "$1.999.900\n",
      "$599.900\n",
      "$933.000\n",
      "$1.249.900\n",
      "$1.799.900\n",
      "$1.700.000\n",
      "$1.609.920\n",
      "$699.900\n",
      "$1.507.900\n",
      "$2.599.900\n",
      "$469.900\n",
      "$1.999.900\n",
      "$4.599.900\n"
     ]
    }
   ],
   "source": [
    "  for title in product_titles:\n",
    "        print(title.text)"
   ]
  },
  {
   "cell_type": "code",
   "execution_count": null,
   "metadata": {},
   "outputs": [],
   "source": [
    " for product in products:\n",
    "        title = product.find(\"a\", class_=\"ui-search-item__group__element ui-search-link\").text\n",
    "        initial_price = product.find(\"span\", class_=\"precio-inicial\").text\n",
    "        final_price = product.find(\"span\", class_=\"precio-final\").text\n",
    "        titles.append(title)\n",
    "        initial_prices.append(initial_price)\n",
    "        final_prices.append(final_price)"
   ]
  }
 ],
 "metadata": {
  "kernelspec": {
   "display_name": "Python 3",
   "language": "python",
   "name": "python3"
  },
  "language_info": {
   "codemirror_mode": {
    "name": "ipython",
    "version": 3
   },
   "file_extension": ".py",
   "mimetype": "text/x-python",
   "name": "python",
   "nbconvert_exporter": "python",
   "pygments_lexer": "ipython3",
   "version": "3.6.5"
  }
 },
 "nbformat": 4,
 "nbformat_minor": 2
}
